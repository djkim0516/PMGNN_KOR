{
 "cells": [
  {
   "cell_type": "code",
   "execution_count": 1,
   "metadata": {},
   "outputs": [],
   "source": [
    "import numpy as np\n",
    "import pandas as pd"
   ]
  },
  {
   "cell_type": "code",
   "execution_count": 3,
   "metadata": {},
   "outputs": [],
   "source": [
    "knowair_fp = \"/Users/djkim/github/PMGNN_KOR/data/KnowAir.npy\""
   ]
  },
  {
   "cell_type": "code",
   "execution_count": 4,
   "metadata": {},
   "outputs": [
    {
     "data": {
      "text/plain": [
       "'/Users/djkim/github/PMGNN_KOR/data/KnowAir.npy'"
      ]
     },
     "execution_count": 4,
     "metadata": {},
     "output_type": "execute_result"
    }
   ],
   "source": [
    "knowair_fp"
   ]
  },
  {
   "cell_type": "code",
   "execution_count": 6,
   "metadata": {},
   "outputs": [],
   "source": [
    "knowair_data = np.load(knowair_fp)"
   ]
  },
  {
   "cell_type": "code",
   "execution_count": 14,
   "metadata": {},
   "outputs": [
    {
     "data": {
      "text/plain": [
       "array([[[ 1.82038193e+00, -1.31661860e+00,  2.53094174e+02, ...,\n",
       "          6.31098542e-01, -6.50030234e-05,  0.00000000e+00],\n",
       "        [ 2.12300090e+00, -4.55674705e+00,  2.52072344e+02, ...,\n",
       "          3.05136791e-01, -7.75019890e-05,  0.00000000e+00],\n",
       "        [ 1.88390384e+00,  9.33303060e-01,  2.54394960e+02, ...,\n",
       "         -1.55141169e-01,  1.15251536e-04,  0.00000000e+00],\n",
       "        ...,\n",
       "        [ 1.88222495e-01,  2.03864601e+00,  2.52205539e+02, ...,\n",
       "          1.96671457e-01,  2.33993883e-05,  0.00000000e+00],\n",
       "        [ 3.80600388e-01,  3.61487560e+00,  2.54617455e+02, ...,\n",
       "          3.67921674e-01, -1.67880156e-06,  0.00000000e+00],\n",
       "        [ 8.82601689e-01,  3.62791441e+00,  2.54737965e+02, ...,\n",
       "          2.33518399e-01,  4.47387923e-06,  0.00000000e+00]],\n",
       "\n",
       "       [[ 1.09219781e+00,  9.26735098e-01,  2.52857401e+02, ...,\n",
       "         -1.86903511e-02, -2.80962819e-06,  0.00000000e+00],\n",
       "        [ 1.56951733e+00, -2.37262813e+00,  2.51848299e+02, ...,\n",
       "          9.17820711e-02, -1.41926963e-04,  0.00000000e+00],\n",
       "        [ 1.21387598e+00,  1.73966624e+00,  2.52872888e+02, ...,\n",
       "         -1.57979715e-01,  2.36276970e-05,  0.00000000e+00],\n",
       "        ...,\n",
       "        [-5.32923485e-01,  1.17618152e+00,  2.54440306e+02, ...,\n",
       "          1.33020617e-01,  2.63429823e-05,  0.00000000e+00],\n",
       "        [ 7.19893279e-01,  3.42955825e+00,  2.57001083e+02, ...,\n",
       "          2.50923287e-01, -1.11702179e-06,  0.00000000e+00],\n",
       "        [ 1.05474071e+00,  2.67024824e+00,  2.56780122e+02, ...,\n",
       "          2.02202541e-01,  1.76947940e-05,  0.00000000e+00]],\n",
       "\n",
       "       [[ 1.77989160e+00,  3.29264684e+00,  2.52921985e+02, ...,\n",
       "         -1.31455025e-01,  2.22021198e-05,  0.00000000e+00],\n",
       "        [ 3.93160693e+00,  2.27443729e+00,  2.52207570e+02, ...,\n",
       "         -8.65770098e-02, -6.39837856e-05,  0.00000000e+00],\n",
       "        [ 1.01411209e+00,  2.47384663e+00,  2.51551383e+02, ...,\n",
       "         -8.13132338e-02,  5.08331786e-05,  0.00000000e+00],\n",
       "        ...,\n",
       "        [-1.07278780e+00, -7.15666175e-01,  2.53552389e+02, ...,\n",
       "          2.72375616e-02,  2.38348801e-06,  0.00000000e+00],\n",
       "        [-2.89495832e-01,  7.22830233e-01,  2.55895423e+02, ...,\n",
       "          2.57071526e-02,  3.06447382e-05,  0.00000000e+00],\n",
       "        [ 7.28405188e-01,  3.50722707e+00,  2.56601435e+02, ...,\n",
       "          2.07966484e-01, -1.73495316e-05,  0.00000000e+00]],\n",
       "\n",
       "       ...,\n",
       "\n",
       "       [[-6.51047113e-01, -5.02337725e-01,  2.54867387e+02, ...,\n",
       "         -8.34499666e-02,  6.37499547e-05,  5.40000000e+01],\n",
       "        [-7.47267096e-01,  5.44102629e-01,  2.58689944e+02, ...,\n",
       "          4.32791036e-02, -3.05667362e-05,  5.60000000e+01],\n",
       "        [ 1.83770259e-01, -1.91628795e+00,  2.55163062e+02, ...,\n",
       "         -2.65947336e-02,  3.59670877e-05,  1.39000000e+02],\n",
       "        ...,\n",
       "        [ 2.20494956e+00,  2.22350349e-01,  2.52434150e+02, ...,\n",
       "          1.86856494e-01,  6.52193091e-05,  2.00000000e+01],\n",
       "        [-2.17743839e-01,  1.86185287e+00,  2.52800148e+02, ...,\n",
       "          2.18984139e-01, -9.33874250e-06,  5.30000000e+01],\n",
       "        [ 4.87908345e-01,  2.89207803e+00,  2.55618241e+02, ...,\n",
       "          2.11200237e-01, -1.54328591e-05,  1.00000000e+02]],\n",
       "\n",
       "       [[-7.11245195e-01, -4.46030226e-01,  2.54919849e+02, ...,\n",
       "         -7.58939861e-02,  5.37104855e-05,  5.10000000e+01],\n",
       "        [ 2.51956301e-01,  4.74079644e-01,  2.58601975e+02, ...,\n",
       "         -6.73430454e-03, -2.72354161e-05,  6.50000000e+01],\n",
       "        [ 6.98599514e-01, -9.18734968e-01,  2.54897527e+02, ...,\n",
       "          8.47834413e-02,  3.52543014e-05,  1.42000000e+02],\n",
       "        ...,\n",
       "        [ 4.14459106e-01,  1.32652784e+00,  2.52204373e+02, ...,\n",
       "          2.19059255e-01,  6.10022738e-05,  3.40000000e+01],\n",
       "        [-8.78944502e-01,  3.07801193e+00,  2.53473166e+02, ...,\n",
       "          2.74809306e-01,  1.16280652e-05,  4.30000000e+01],\n",
       "        [ 1.40804768e+00,  3.59315024e+00,  2.55356849e+02, ...,\n",
       "          2.18848209e-01,  6.54764106e-06,  6.50000000e+01]],\n",
       "\n",
       "       [[ 3.59230526e-01, -1.96972675e-01,  2.54730004e+02, ...,\n",
       "          5.62233985e-02,  2.94917303e-05,  5.10000000e+01],\n",
       "        [ 2.26472361e+00,  7.13713363e-01,  2.57942029e+02, ...,\n",
       "         -5.32416920e-02, -3.34486510e-05,  6.80000000e+01],\n",
       "        [ 2.99611124e-01, -4.88742811e-01,  2.54832448e+02, ...,\n",
       "          1.11369791e-01,  1.73640451e-05,  1.41000000e+02],\n",
       "        ...,\n",
       "        [-1.41940556e+00, -8.58275421e-01,  2.51893572e+02, ...,\n",
       "          1.53643426e-01,  5.25987158e-05,  3.20000000e+01],\n",
       "        [-5.27757093e-01,  3.21174280e+00,  2.54464508e+02, ...,\n",
       "          2.86609526e-01,  1.97383345e-05,  6.50000000e+01],\n",
       "        [ 1.00499847e+00,  4.09054774e+00,  2.56753448e+02, ...,\n",
       "          2.02657771e-01,  1.61408003e-05,  5.10000000e+01]]])"
      ]
     },
     "execution_count": 14,
     "metadata": {},
     "output_type": "execute_result"
    }
   ],
   "source": [
    "knowair_data"
   ]
  },
  {
   "cell_type": "code",
   "execution_count": 20,
   "metadata": {},
   "outputs": [
    {
     "data": {
      "text/plain": [
       "array([[ 1.82038193,  2.1230009 ,  1.88390384, ...,  0.1882225 ,\n",
       "         0.38060039,  0.88260169],\n",
       "       [ 1.09219781,  1.56951733,  1.21387598, ..., -0.53292348,\n",
       "         0.71989328,  1.05474071],\n",
       "       [ 1.7798916 ,  3.93160693,  1.01411209, ..., -1.0727878 ,\n",
       "        -0.28949583,  0.72840519],\n",
       "       ...,\n",
       "       [-0.65104711, -0.7472671 ,  0.18377026, ...,  2.20494956,\n",
       "        -0.21774384,  0.48790835],\n",
       "       [-0.7112452 ,  0.2519563 ,  0.69859951, ...,  0.41445911,\n",
       "        -0.8789445 ,  1.40804768],\n",
       "       [ 0.35923053,  2.26472361,  0.29961112, ..., -1.41940556,\n",
       "        -0.52775709,  1.00499847]])"
      ]
     },
     "execution_count": 20,
     "metadata": {},
     "output_type": "execute_result"
    }
   ],
   "source": [
    "knowair_data[:,:,0]"
   ]
  },
  {
   "cell_type": "code",
   "execution_count": 24,
   "metadata": {},
   "outputs": [],
   "source": [
    "import yaml\n",
    "from yaml.loader import SafeLoader\n",
    "\n",
    "# Open the file and load the file\n",
    "with open('config.yaml') as f:\n",
    "    config = yaml.load(f, Loader=SafeLoader)"
   ]
  },
  {
   "cell_type": "code",
   "execution_count": 28,
   "metadata": {},
   "outputs": [],
   "source": [
    "var_list = config['data']['metero_var']"
   ]
  },
  {
   "cell_type": "code",
   "execution_count": 33,
   "metadata": {},
   "outputs": [
    {
     "data": {
      "text/plain": [
       "['100m_u_component_of_wind',\n",
       " '100m_v_component_of_wind',\n",
       " '2m_dewpoint_temperature',\n",
       " '2m_temperature',\n",
       " 'boundary_layer_height',\n",
       " 'k_index',\n",
       " 'relative_humidity+950',\n",
       " 'relative_humidity+975',\n",
       " 'specific_humidity+950',\n",
       " 'surface_pressure',\n",
       " 'temperature+925',\n",
       " 'temperature+950',\n",
       " 'total_precipitation',\n",
       " 'u_component_of_wind+950',\n",
       " 'v_component_of_wind+950',\n",
       " 'vertical_velocity+950',\n",
       " 'vorticity+950']"
      ]
     },
     "execution_count": 33,
     "metadata": {},
     "output_type": "execute_result"
    }
   ],
   "source": [
    "var_list"
   ]
  },
  {
   "cell_type": "code",
   "execution_count": 32,
   "metadata": {},
   "outputs": [
    {
     "data": {
      "text/html": [
       "<div>\n",
       "<style scoped>\n",
       "    .dataframe tbody tr th:only-of-type {\n",
       "        vertical-align: middle;\n",
       "    }\n",
       "\n",
       "    .dataframe tbody tr th {\n",
       "        vertical-align: top;\n",
       "    }\n",
       "\n",
       "    .dataframe thead th {\n",
       "        text-align: right;\n",
       "    }\n",
       "</style>\n",
       "<table border=\"1\" class=\"dataframe\">\n",
       "  <thead>\n",
       "    <tr style=\"text-align: right;\">\n",
       "      <th></th>\n",
       "      <th>0</th>\n",
       "      <th>1</th>\n",
       "      <th>2</th>\n",
       "      <th>3</th>\n",
       "      <th>4</th>\n",
       "      <th>5</th>\n",
       "      <th>6</th>\n",
       "      <th>7</th>\n",
       "      <th>8</th>\n",
       "      <th>9</th>\n",
       "      <th>10</th>\n",
       "      <th>11</th>\n",
       "      <th>12</th>\n",
       "      <th>13</th>\n",
       "      <th>14</th>\n",
       "      <th>15</th>\n",
       "      <th>16</th>\n",
       "      <th>17</th>\n",
       "    </tr>\n",
       "  </thead>\n",
       "  <tbody>\n",
       "    <tr>\n",
       "      <th>0</th>\n",
       "      <td>1.820382</td>\n",
       "      <td>-1.316619</td>\n",
       "      <td>253.094174</td>\n",
       "      <td>266.073469</td>\n",
       "      <td>38.451550</td>\n",
       "      <td>-42.704867</td>\n",
       "      <td>20.919911</td>\n",
       "      <td>19.247989</td>\n",
       "      <td>0.000433</td>\n",
       "      <td>102294.539316</td>\n",
       "      <td>263.243316</td>\n",
       "      <td>264.921798</td>\n",
       "      <td>0.000000e+00</td>\n",
       "      <td>7.027996</td>\n",
       "      <td>-4.343689</td>\n",
       "      <td>0.631099</td>\n",
       "      <td>-0.000065</td>\n",
       "      <td>0.0</td>\n",
       "    </tr>\n",
       "    <tr>\n",
       "      <th>1</th>\n",
       "      <td>1.092198</td>\n",
       "      <td>0.926735</td>\n",
       "      <td>252.857401</td>\n",
       "      <td>272.007302</td>\n",
       "      <td>759.074470</td>\n",
       "      <td>-31.047865</td>\n",
       "      <td>21.631333</td>\n",
       "      <td>21.202582</td>\n",
       "      <td>0.000483</td>\n",
       "      <td>102194.227876</td>\n",
       "      <td>264.399781</td>\n",
       "      <td>265.759716</td>\n",
       "      <td>0.000000e+00</td>\n",
       "      <td>4.043098</td>\n",
       "      <td>1.588486</td>\n",
       "      <td>-0.018690</td>\n",
       "      <td>-0.000003</td>\n",
       "      <td>0.0</td>\n",
       "    </tr>\n",
       "    <tr>\n",
       "      <th>2</th>\n",
       "      <td>1.779892</td>\n",
       "      <td>3.292647</td>\n",
       "      <td>252.921985</td>\n",
       "      <td>275.031649</td>\n",
       "      <td>1259.888071</td>\n",
       "      <td>-21.878662</td>\n",
       "      <td>20.786820</td>\n",
       "      <td>18.177390</td>\n",
       "      <td>0.000582</td>\n",
       "      <td>101695.489408</td>\n",
       "      <td>266.435610</td>\n",
       "      <td>268.504625</td>\n",
       "      <td>0.000000e+00</td>\n",
       "      <td>2.989534</td>\n",
       "      <td>3.784174</td>\n",
       "      <td>-0.131455</td>\n",
       "      <td>0.000022</td>\n",
       "      <td>0.0</td>\n",
       "    </tr>\n",
       "    <tr>\n",
       "      <th>3</th>\n",
       "      <td>-0.149573</td>\n",
       "      <td>5.855958</td>\n",
       "      <td>254.522637</td>\n",
       "      <td>273.538877</td>\n",
       "      <td>193.413895</td>\n",
       "      <td>-18.738065</td>\n",
       "      <td>20.158202</td>\n",
       "      <td>19.507287</td>\n",
       "      <td>0.000637</td>\n",
       "      <td>101471.008285</td>\n",
       "      <td>268.676662</td>\n",
       "      <td>269.993334</td>\n",
       "      <td>0.000000e+00</td>\n",
       "      <td>4.232712</td>\n",
       "      <td>6.454569</td>\n",
       "      <td>-0.271142</td>\n",
       "      <td>0.000120</td>\n",
       "      <td>0.0</td>\n",
       "    </tr>\n",
       "    <tr>\n",
       "      <th>4</th>\n",
       "      <td>1.725849</td>\n",
       "      <td>2.687204</td>\n",
       "      <td>255.971283</td>\n",
       "      <td>269.737400</td>\n",
       "      <td>50.058292</td>\n",
       "      <td>-12.446521</td>\n",
       "      <td>16.691710</td>\n",
       "      <td>18.364368</td>\n",
       "      <td>0.000596</td>\n",
       "      <td>101454.941732</td>\n",
       "      <td>270.941309</td>\n",
       "      <td>271.588619</td>\n",
       "      <td>0.000000e+00</td>\n",
       "      <td>6.339292</td>\n",
       "      <td>2.295208</td>\n",
       "      <td>-0.020699</td>\n",
       "      <td>0.000166</td>\n",
       "      <td>0.0</td>\n",
       "    </tr>\n",
       "    <tr>\n",
       "      <th>...</th>\n",
       "      <td>...</td>\n",
       "      <td>...</td>\n",
       "      <td>...</td>\n",
       "      <td>...</td>\n",
       "      <td>...</td>\n",
       "      <td>...</td>\n",
       "      <td>...</td>\n",
       "      <td>...</td>\n",
       "      <td>...</td>\n",
       "      <td>...</td>\n",
       "      <td>...</td>\n",
       "      <td>...</td>\n",
       "      <td>...</td>\n",
       "      <td>...</td>\n",
       "      <td>...</td>\n",
       "      <td>...</td>\n",
       "      <td>...</td>\n",
       "      <td>...</td>\n",
       "    </tr>\n",
       "    <tr>\n",
       "      <th>11683</th>\n",
       "      <td>-1.095630</td>\n",
       "      <td>1.613997</td>\n",
       "      <td>253.071321</td>\n",
       "      <td>268.066713</td>\n",
       "      <td>131.289889</td>\n",
       "      <td>-8.514717</td>\n",
       "      <td>34.133912</td>\n",
       "      <td>28.967474</td>\n",
       "      <td>0.000612</td>\n",
       "      <td>102975.363103</td>\n",
       "      <td>261.350453</td>\n",
       "      <td>263.308073</td>\n",
       "      <td>5.204114e-06</td>\n",
       "      <td>0.173683</td>\n",
       "      <td>2.963179</td>\n",
       "      <td>0.070616</td>\n",
       "      <td>0.000012</td>\n",
       "      <td>48.0</td>\n",
       "    </tr>\n",
       "    <tr>\n",
       "      <th>11684</th>\n",
       "      <td>0.143866</td>\n",
       "      <td>0.447399</td>\n",
       "      <td>254.633826</td>\n",
       "      <td>267.125929</td>\n",
       "      <td>18.146255</td>\n",
       "      <td>-4.219160</td>\n",
       "      <td>45.904391</td>\n",
       "      <td>38.988242</td>\n",
       "      <td>0.000792</td>\n",
       "      <td>103003.058209</td>\n",
       "      <td>261.430355</td>\n",
       "      <td>262.925073</td>\n",
       "      <td>1.454938e-05</td>\n",
       "      <td>3.260897</td>\n",
       "      <td>2.980205</td>\n",
       "      <td>0.142749</td>\n",
       "      <td>0.000040</td>\n",
       "      <td>54.0</td>\n",
       "    </tr>\n",
       "    <tr>\n",
       "      <th>11685</th>\n",
       "      <td>-0.651047</td>\n",
       "      <td>-0.502338</td>\n",
       "      <td>254.867387</td>\n",
       "      <td>263.425728</td>\n",
       "      <td>24.742975</td>\n",
       "      <td>-4.033033</td>\n",
       "      <td>46.120508</td>\n",
       "      <td>40.381935</td>\n",
       "      <td>0.000815</td>\n",
       "      <td>102979.299237</td>\n",
       "      <td>261.999683</td>\n",
       "      <td>263.201678</td>\n",
       "      <td>-2.328306e-10</td>\n",
       "      <td>3.475172</td>\n",
       "      <td>1.865678</td>\n",
       "      <td>-0.083450</td>\n",
       "      <td>0.000064</td>\n",
       "      <td>54.0</td>\n",
       "    </tr>\n",
       "    <tr>\n",
       "      <th>11686</th>\n",
       "      <td>-0.711245</td>\n",
       "      <td>-0.446030</td>\n",
       "      <td>254.919849</td>\n",
       "      <td>261.486152</td>\n",
       "      <td>16.285089</td>\n",
       "      <td>-3.958804</td>\n",
       "      <td>43.694061</td>\n",
       "      <td>38.698993</td>\n",
       "      <td>0.000796</td>\n",
       "      <td>102942.061697</td>\n",
       "      <td>262.752380</td>\n",
       "      <td>263.570576</td>\n",
       "      <td>-2.328306e-10</td>\n",
       "      <td>2.997337</td>\n",
       "      <td>0.593381</td>\n",
       "      <td>-0.075894</td>\n",
       "      <td>0.000054</td>\n",
       "      <td>51.0</td>\n",
       "    </tr>\n",
       "    <tr>\n",
       "      <th>11687</th>\n",
       "      <td>0.359231</td>\n",
       "      <td>-0.196973</td>\n",
       "      <td>254.730004</td>\n",
       "      <td>260.681847</td>\n",
       "      <td>13.953547</td>\n",
       "      <td>-3.366818</td>\n",
       "      <td>42.396510</td>\n",
       "      <td>37.421613</td>\n",
       "      <td>0.000822</td>\n",
       "      <td>102851.835151</td>\n",
       "      <td>263.496349</td>\n",
       "      <td>264.218972</td>\n",
       "      <td>-2.328306e-10</td>\n",
       "      <td>3.889892</td>\n",
       "      <td>-0.817425</td>\n",
       "      <td>0.056223</td>\n",
       "      <td>0.000029</td>\n",
       "      <td>51.0</td>\n",
       "    </tr>\n",
       "  </tbody>\n",
       "</table>\n",
       "<p>11688 rows × 18 columns</p>\n",
       "</div>"
      ],
      "text/plain": [
       "             0         1           2           3            4          5   \\\n",
       "0      1.820382 -1.316619  253.094174  266.073469    38.451550 -42.704867   \n",
       "1      1.092198  0.926735  252.857401  272.007302   759.074470 -31.047865   \n",
       "2      1.779892  3.292647  252.921985  275.031649  1259.888071 -21.878662   \n",
       "3     -0.149573  5.855958  254.522637  273.538877   193.413895 -18.738065   \n",
       "4      1.725849  2.687204  255.971283  269.737400    50.058292 -12.446521   \n",
       "...         ...       ...         ...         ...          ...        ...   \n",
       "11683 -1.095630  1.613997  253.071321  268.066713   131.289889  -8.514717   \n",
       "11684  0.143866  0.447399  254.633826  267.125929    18.146255  -4.219160   \n",
       "11685 -0.651047 -0.502338  254.867387  263.425728    24.742975  -4.033033   \n",
       "11686 -0.711245 -0.446030  254.919849  261.486152    16.285089  -3.958804   \n",
       "11687  0.359231 -0.196973  254.730004  260.681847    13.953547  -3.366818   \n",
       "\n",
       "              6          7         8              9           10          11  \\\n",
       "0      20.919911  19.247989  0.000433  102294.539316  263.243316  264.921798   \n",
       "1      21.631333  21.202582  0.000483  102194.227876  264.399781  265.759716   \n",
       "2      20.786820  18.177390  0.000582  101695.489408  266.435610  268.504625   \n",
       "3      20.158202  19.507287  0.000637  101471.008285  268.676662  269.993334   \n",
       "4      16.691710  18.364368  0.000596  101454.941732  270.941309  271.588619   \n",
       "...          ...        ...       ...            ...         ...         ...   \n",
       "11683  34.133912  28.967474  0.000612  102975.363103  261.350453  263.308073   \n",
       "11684  45.904391  38.988242  0.000792  103003.058209  261.430355  262.925073   \n",
       "11685  46.120508  40.381935  0.000815  102979.299237  261.999683  263.201678   \n",
       "11686  43.694061  38.698993  0.000796  102942.061697  262.752380  263.570576   \n",
       "11687  42.396510  37.421613  0.000822  102851.835151  263.496349  264.218972   \n",
       "\n",
       "                 12        13        14        15        16    17  \n",
       "0      0.000000e+00  7.027996 -4.343689  0.631099 -0.000065   0.0  \n",
       "1      0.000000e+00  4.043098  1.588486 -0.018690 -0.000003   0.0  \n",
       "2      0.000000e+00  2.989534  3.784174 -0.131455  0.000022   0.0  \n",
       "3      0.000000e+00  4.232712  6.454569 -0.271142  0.000120   0.0  \n",
       "4      0.000000e+00  6.339292  2.295208 -0.020699  0.000166   0.0  \n",
       "...             ...       ...       ...       ...       ...   ...  \n",
       "11683  5.204114e-06  0.173683  2.963179  0.070616  0.000012  48.0  \n",
       "11684  1.454938e-05  3.260897  2.980205  0.142749  0.000040  54.0  \n",
       "11685 -2.328306e-10  3.475172  1.865678 -0.083450  0.000064  54.0  \n",
       "11686 -2.328306e-10  2.997337  0.593381 -0.075894  0.000054  51.0  \n",
       "11687 -2.328306e-10  3.889892 -0.817425  0.056223  0.000029  51.0  \n",
       "\n",
       "[11688 rows x 18 columns]"
      ]
     },
     "execution_count": 32,
     "metadata": {},
     "output_type": "execute_result"
    }
   ],
   "source": [
    "pd.DataFrame(knowair_data[:,0,:])"
   ]
  },
  {
   "cell_type": "code",
   "execution_count": 29,
   "metadata": {},
   "outputs": [
    {
     "ename": "ValueError",
     "evalue": "Shape of passed values is (11688, 18), indices imply (11688, 17)",
     "output_type": "error",
     "traceback": [
      "\u001b[0;31m---------------------------------------------------------------------------\u001b[0m",
      "\u001b[0;31mValueError\u001b[0m                                Traceback (most recent call last)",
      "\u001b[1;32m/Users/djkim/github/PMGNN_KOR/dataEDA.ipynb 셀 9\u001b[0m in \u001b[0;36m<cell line: 1>\u001b[0;34m()\u001b[0m\n\u001b[0;32m----> <a href='vscode-notebook-cell:/Users/djkim/github/PMGNN_KOR/dataEDA.ipynb#W5sZmlsZQ%3D%3D?line=0'>1</a>\u001b[0m pd\u001b[39m.\u001b[39;49mDataFrame(knowair_data[:,\u001b[39m0\u001b[39;49m,:], columns\u001b[39m=\u001b[39;49mvar_list)\n",
      "File \u001b[0;32m~/opt/anaconda3/envs/pmgnn_kr/lib/python3.9/site-packages/pandas/core/frame.py:694\u001b[0m, in \u001b[0;36mDataFrame.__init__\u001b[0;34m(self, data, index, columns, dtype, copy)\u001b[0m\n\u001b[1;32m    684\u001b[0m         mgr \u001b[39m=\u001b[39m dict_to_mgr(\n\u001b[1;32m    685\u001b[0m             \u001b[39m# error: Item \"ndarray\" of \"Union[ndarray, Series, Index]\" has no\u001b[39;00m\n\u001b[1;32m    686\u001b[0m             \u001b[39m# attribute \"name\"\u001b[39;00m\n\u001b[0;32m   (...)\u001b[0m\n\u001b[1;32m    691\u001b[0m             typ\u001b[39m=\u001b[39mmanager,\n\u001b[1;32m    692\u001b[0m         )\n\u001b[1;32m    693\u001b[0m     \u001b[39melse\u001b[39;00m:\n\u001b[0;32m--> 694\u001b[0m         mgr \u001b[39m=\u001b[39m ndarray_to_mgr(\n\u001b[1;32m    695\u001b[0m             data,\n\u001b[1;32m    696\u001b[0m             index,\n\u001b[1;32m    697\u001b[0m             columns,\n\u001b[1;32m    698\u001b[0m             dtype\u001b[39m=\u001b[39;49mdtype,\n\u001b[1;32m    699\u001b[0m             copy\u001b[39m=\u001b[39;49mcopy,\n\u001b[1;32m    700\u001b[0m             typ\u001b[39m=\u001b[39;49mmanager,\n\u001b[1;32m    701\u001b[0m         )\n\u001b[1;32m    703\u001b[0m \u001b[39m# For data is list-like, or Iterable (will consume into list)\u001b[39;00m\n\u001b[1;32m    704\u001b[0m \u001b[39melif\u001b[39;00m is_list_like(data):\n",
      "File \u001b[0;32m~/opt/anaconda3/envs/pmgnn_kr/lib/python3.9/site-packages/pandas/core/internals/construction.py:351\u001b[0m, in \u001b[0;36mndarray_to_mgr\u001b[0;34m(values, index, columns, dtype, copy, typ)\u001b[0m\n\u001b[1;32m    346\u001b[0m \u001b[39m# _prep_ndarray ensures that values.ndim == 2 at this point\u001b[39;00m\n\u001b[1;32m    347\u001b[0m index, columns \u001b[39m=\u001b[39m _get_axes(\n\u001b[1;32m    348\u001b[0m     values\u001b[39m.\u001b[39mshape[\u001b[39m0\u001b[39m], values\u001b[39m.\u001b[39mshape[\u001b[39m1\u001b[39m], index\u001b[39m=\u001b[39mindex, columns\u001b[39m=\u001b[39mcolumns\n\u001b[1;32m    349\u001b[0m )\n\u001b[0;32m--> 351\u001b[0m _check_values_indices_shape_match(values, index, columns)\n\u001b[1;32m    353\u001b[0m \u001b[39mif\u001b[39;00m typ \u001b[39m==\u001b[39m \u001b[39m\"\u001b[39m\u001b[39marray\u001b[39m\u001b[39m\"\u001b[39m:\n\u001b[1;32m    355\u001b[0m     \u001b[39mif\u001b[39;00m \u001b[39missubclass\u001b[39m(values\u001b[39m.\u001b[39mdtype\u001b[39m.\u001b[39mtype, \u001b[39mstr\u001b[39m):\n",
      "File \u001b[0;32m~/opt/anaconda3/envs/pmgnn_kr/lib/python3.9/site-packages/pandas/core/internals/construction.py:422\u001b[0m, in \u001b[0;36m_check_values_indices_shape_match\u001b[0;34m(values, index, columns)\u001b[0m\n\u001b[1;32m    420\u001b[0m passed \u001b[39m=\u001b[39m values\u001b[39m.\u001b[39mshape\n\u001b[1;32m    421\u001b[0m implied \u001b[39m=\u001b[39m (\u001b[39mlen\u001b[39m(index), \u001b[39mlen\u001b[39m(columns))\n\u001b[0;32m--> 422\u001b[0m \u001b[39mraise\u001b[39;00m \u001b[39mValueError\u001b[39;00m(\u001b[39mf\u001b[39m\u001b[39m\"\u001b[39m\u001b[39mShape of passed values is \u001b[39m\u001b[39m{\u001b[39;00mpassed\u001b[39m}\u001b[39;00m\u001b[39m, indices imply \u001b[39m\u001b[39m{\u001b[39;00mimplied\u001b[39m}\u001b[39;00m\u001b[39m\"\u001b[39m)\n",
      "\u001b[0;31mValueError\u001b[0m: Shape of passed values is (11688, 18), indices imply (11688, 17)"
     ]
    }
   ],
   "source": [
    "pd.DataFrame(knowair_data[:,0,:], columns=var)"
   ]
  },
  {
   "cell_type": "code",
   "execution_count": 35,
   "metadata": {},
   "outputs": [],
   "source": [
    "import os\n",
    "import sys\n",
    "# proj_dir = os.path.dirname(os.path.abspath(__file__))\n",
    "proj_dir = os.path.dirname(os.getcwd())\n",
    "sys.path.append(proj_dir)\n",
    "from util import config, file_dir\n",
    "from graph import Graph\n",
    "from dataset import HazeData\n",
    "\n",
    "from model.MLP import MLP\n",
    "from model.LSTM import LSTM\n",
    "from model.GRU import GRU\n",
    "from model.GC_LSTM import GC_LSTM\n",
    "from model.nodesFC_GRU import nodesFC_GRU\n",
    "from model.PM25_GNN import PM25_GNN\n",
    "from model.PM25_GNN_nosub import PM25_GNN_nosub\n",
    "\n",
    "import arrow\n",
    "import torch\n",
    "from torch import nn\n",
    "from tqdm import tqdm\n",
    "import numpy as np\n",
    "import pickle\n",
    "import glob\n",
    "import shutil\n",
    "\n",
    "torch.set_num_threads(1)\n",
    "use_cuda = torch.cuda.is_available()\n",
    "device = torch.device('cuda' if use_cuda else 'cpu')\n",
    "\n",
    "graph = Graph()\n",
    "city_num = graph.node_num\n",
    "\n",
    "batch_size = config['train']['batch_size']\n",
    "epochs = config['train']['epochs']\n",
    "hist_len = config['train']['hist_len']\n",
    "pred_len = config['train']['pred_len']\n",
    "weight_decay = config['train']['weight_decay']\n",
    "early_stop = config['train']['early_stop']\n",
    "lr = config['train']['lr']\n",
    "results_dir = file_dir['results_dir']\n",
    "dataset_num = config['experiments']['dataset_num']\n",
    "exp_model = config['experiments']['model']\n",
    "exp_repeat = config['train']['exp_repeat']\n",
    "save_npy = config['experiments']['save_npy']\n",
    "criterion = nn.MSELoss()\n",
    "\n"
   ]
  },
  {
   "cell_type": "code",
   "execution_count": 37,
   "metadata": {},
   "outputs": [],
   "source": [
    "train_data = HazeData(graph, hist_len, pred_len, dataset_num, flag='Train')"
   ]
  },
  {
   "cell_type": "code",
   "execution_count": 51,
   "metadata": {},
   "outputs": [],
   "source": [
    "from torchvision import transforms\n",
    "\n",
    "transform = transforms.Compose([\n",
    "    transforms.ToTensor()\n",
    "])\n",
    "\n",
    "\n",
    "# cifar100 = torchvision.datasets.CIFAR100('path/cifar100/', transform=transform)"
   ]
  },
  {
   "cell_type": "code",
   "execution_count": 91,
   "metadata": {},
   "outputs": [
    {
     "data": {
      "text/plain": [
       "array([<bound method Arrow.timestamp of <Arrow [2016-09-01T00:00:00+00:00]>>,\n",
       "       <bound method Arrow.timestamp of <Arrow [2016-09-01T03:00:00+00:00]>>,\n",
       "       <bound method Arrow.timestamp of <Arrow [2016-09-01T06:00:00+00:00]>>,\n",
       "       <bound method Arrow.timestamp of <Arrow [2016-09-01T09:00:00+00:00]>>,\n",
       "       <bound method Arrow.timestamp of <Arrow [2016-09-01T12:00:00+00:00]>>,\n",
       "       <bound method Arrow.timestamp of <Arrow [2016-09-01T15:00:00+00:00]>>,\n",
       "       <bound method Arrow.timestamp of <Arrow [2016-09-01T18:00:00+00:00]>>,\n",
       "       <bound method Arrow.timestamp of <Arrow [2016-09-01T21:00:00+00:00]>>,\n",
       "       <bound method Arrow.timestamp of <Arrow [2016-09-02T00:00:00+00:00]>>,\n",
       "       <bound method Arrow.timestamp of <Arrow [2016-09-02T03:00:00+00:00]>>,\n",
       "       <bound method Arrow.timestamp of <Arrow [2016-09-02T06:00:00+00:00]>>,\n",
       "       <bound method Arrow.timestamp of <Arrow [2016-09-02T09:00:00+00:00]>>,\n",
       "       <bound method Arrow.timestamp of <Arrow [2016-09-02T12:00:00+00:00]>>,\n",
       "       <bound method Arrow.timestamp of <Arrow [2016-09-02T15:00:00+00:00]>>,\n",
       "       <bound method Arrow.timestamp of <Arrow [2016-09-02T18:00:00+00:00]>>,\n",
       "       <bound method Arrow.timestamp of <Arrow [2016-09-02T21:00:00+00:00]>>,\n",
       "       <bound method Arrow.timestamp of <Arrow [2016-09-03T00:00:00+00:00]>>,\n",
       "       <bound method Arrow.timestamp of <Arrow [2016-09-03T03:00:00+00:00]>>,\n",
       "       <bound method Arrow.timestamp of <Arrow [2016-09-03T06:00:00+00:00]>>,\n",
       "       <bound method Arrow.timestamp of <Arrow [2016-09-03T09:00:00+00:00]>>,\n",
       "       <bound method Arrow.timestamp of <Arrow [2016-09-03T12:00:00+00:00]>>,\n",
       "       <bound method Arrow.timestamp of <Arrow [2016-09-03T15:00:00+00:00]>>,\n",
       "       <bound method Arrow.timestamp of <Arrow [2016-09-03T18:00:00+00:00]>>,\n",
       "       <bound method Arrow.timestamp of <Arrow [2016-09-03T21:00:00+00:00]>>,\n",
       "       <bound method Arrow.timestamp of <Arrow [2016-09-04T00:00:00+00:00]>>],\n",
       "      dtype=object)"
      ]
     },
     "execution_count": 91,
     "metadata": {},
     "output_type": "execute_result"
    }
   ],
   "source": [
    "train_data[0][2]"
   ]
  },
  {
   "cell_type": "code",
   "execution_count": 79,
   "metadata": {},
   "outputs": [
    {
     "data": {
      "text/plain": [
       "696"
      ]
     },
     "execution_count": 79,
     "metadata": {},
     "output_type": "execute_result"
    }
   ],
   "source": [
    "len(train_data[:][0])\n"
   ]
  },
  {
   "cell_type": "code",
   "execution_count": 53,
   "metadata": {},
   "outputs": [
    {
     "ename": "TypeError",
     "evalue": "can't convert np.ndarray of type numpy.object_. The only supported types are: float64, float32, float16, complex64, complex128, int64, int32, int16, int8, uint8, and bool.",
     "output_type": "error",
     "traceback": [
      "\u001b[0;31m---------------------------------------------------------------------------\u001b[0m",
      "\u001b[0;31mTypeError\u001b[0m                                 Traceback (most recent call last)",
      "\u001b[1;32m/Users/djkim/github/PMGNN_KOR/dataEDA.ipynb 셀 15\u001b[0m in \u001b[0;36m<cell line: 1>\u001b[0;34m()\u001b[0m\n\u001b[0;32m----> <a href='vscode-notebook-cell:/Users/djkim/github/PMGNN_KOR/dataEDA.ipynb#X22sZmlsZQ%3D%3D?line=0'>1</a>\u001b[0m torch\u001b[39m.\u001b[39;49mtensor(train_data[\u001b[39m0\u001b[39;49m])\n",
      "\u001b[0;31mTypeError\u001b[0m: can't convert np.ndarray of type numpy.object_. The only supported types are: float64, float32, float16, complex64, complex128, int64, int32, int16, int8, uint8, and bool."
     ]
    }
   ],
   "source": [
    "torch.tensor(train_data[0])"
   ]
  },
  {
   "cell_type": "code",
   "execution_count": 39,
   "metadata": {},
   "outputs": [],
   "source": [
    "train_loader = torch.utils.data.DataLoader(train_data, batch_size=batch_size, shuffle=True, drop_last=True)"
   ]
  },
  {
   "cell_type": "code",
   "execution_count": 80,
   "metadata": {},
   "outputs": [
    {
     "ename": "TypeError",
     "evalue": "'DataLoader' object is not subscriptable",
     "output_type": "error",
     "traceback": [
      "\u001b[0;31m---------------------------------------------------------------------------\u001b[0m",
      "\u001b[0;31mTypeError\u001b[0m                                 Traceback (most recent call last)",
      "\u001b[1;32m/Users/djkim/github/PMGNN_KOR/dataEDA.ipynb 셀 18\u001b[0m in \u001b[0;36m<cell line: 1>\u001b[0;34m()\u001b[0m\n\u001b[0;32m----> <a href='vscode-notebook-cell:/Users/djkim/github/PMGNN_KOR/dataEDA.ipynb#X21sZmlsZQ%3D%3D?line=0'>1</a>\u001b[0m \u001b[39mfor\u001b[39;00m i \u001b[39min\u001b[39;00m train_loader[\u001b[39m0\u001b[39;49m]:\n\u001b[1;32m      <a href='vscode-notebook-cell:/Users/djkim/github/PMGNN_KOR/dataEDA.ipynb#X21sZmlsZQ%3D%3D?line=1'>2</a>\u001b[0m     \u001b[39mprint\u001b[39m(i)\n",
      "\u001b[0;31mTypeError\u001b[0m: 'DataLoader' object is not subscriptable"
     ]
    }
   ],
   "source": [
    "for i in train_loader:\n",
    "    print(i)"
   ]
  },
  {
   "cell_type": "code",
   "execution_count": 40,
   "metadata": {},
   "outputs": [
    {
     "ename": "TypeError",
     "evalue": "default_collate: batch must contain tensors, numpy arrays, numbers, dicts or lists; found object",
     "output_type": "error",
     "traceback": [
      "\u001b[0;31m---------------------------------------------------------------------------\u001b[0m",
      "\u001b[0;31mTypeError\u001b[0m                                 Traceback (most recent call last)",
      "\u001b[1;32m/Users/djkim/github/PMGNN_KOR/dataEDA.ipynb 셀 15\u001b[0m in \u001b[0;36m<cell line: 1>\u001b[0;34m()\u001b[0m\n\u001b[0;32m----> <a href='vscode-notebook-cell:/Users/djkim/github/PMGNN_KOR/dataEDA.ipynb#X20sZmlsZQ%3D%3D?line=0'>1</a>\u001b[0m \u001b[39mfor\u001b[39;00m batch_idx, data \u001b[39min\u001b[39;00m \u001b[39menumerate\u001b[39m(train_loader):\n\u001b[1;32m      <a href='vscode-notebook-cell:/Users/djkim/github/PMGNN_KOR/dataEDA.ipynb#X20sZmlsZQ%3D%3D?line=1'>2</a>\u001b[0m     \u001b[39mprint\u001b[39m(\u001b[39m\"\u001b[39m\u001b[39mbatch_idx :\u001b[39m\u001b[39m\"\u001b[39m, batch_idx)\n",
      "File \u001b[0;32m~/opt/anaconda3/envs/pmgnn_kr/lib/python3.9/site-packages/torch/utils/data/dataloader.py:681\u001b[0m, in \u001b[0;36m_BaseDataLoaderIter.__next__\u001b[0;34m(self)\u001b[0m\n\u001b[1;32m    678\u001b[0m \u001b[39mif\u001b[39;00m \u001b[39mself\u001b[39m\u001b[39m.\u001b[39m_sampler_iter \u001b[39mis\u001b[39;00m \u001b[39mNone\u001b[39;00m:\n\u001b[1;32m    679\u001b[0m     \u001b[39m# TODO(https://github.com/pytorch/pytorch/issues/76750)\u001b[39;00m\n\u001b[1;32m    680\u001b[0m     \u001b[39mself\u001b[39m\u001b[39m.\u001b[39m_reset()  \u001b[39m# type: ignore[call-arg]\u001b[39;00m\n\u001b[0;32m--> 681\u001b[0m data \u001b[39m=\u001b[39m \u001b[39mself\u001b[39;49m\u001b[39m.\u001b[39;49m_next_data()\n\u001b[1;32m    682\u001b[0m \u001b[39mself\u001b[39m\u001b[39m.\u001b[39m_num_yielded \u001b[39m+\u001b[39m\u001b[39m=\u001b[39m \u001b[39m1\u001b[39m\n\u001b[1;32m    683\u001b[0m \u001b[39mif\u001b[39;00m \u001b[39mself\u001b[39m\u001b[39m.\u001b[39m_dataset_kind \u001b[39m==\u001b[39m _DatasetKind\u001b[39m.\u001b[39mIterable \u001b[39mand\u001b[39;00m \\\n\u001b[1;32m    684\u001b[0m         \u001b[39mself\u001b[39m\u001b[39m.\u001b[39m_IterableDataset_len_called \u001b[39mis\u001b[39;00m \u001b[39mnot\u001b[39;00m \u001b[39mNone\u001b[39;00m \u001b[39mand\u001b[39;00m \\\n\u001b[1;32m    685\u001b[0m         \u001b[39mself\u001b[39m\u001b[39m.\u001b[39m_num_yielded \u001b[39m>\u001b[39m \u001b[39mself\u001b[39m\u001b[39m.\u001b[39m_IterableDataset_len_called:\n",
      "File \u001b[0;32m~/opt/anaconda3/envs/pmgnn_kr/lib/python3.9/site-packages/torch/utils/data/dataloader.py:721\u001b[0m, in \u001b[0;36m_SingleProcessDataLoaderIter._next_data\u001b[0;34m(self)\u001b[0m\n\u001b[1;32m    719\u001b[0m \u001b[39mdef\u001b[39;00m \u001b[39m_next_data\u001b[39m(\u001b[39mself\u001b[39m):\n\u001b[1;32m    720\u001b[0m     index \u001b[39m=\u001b[39m \u001b[39mself\u001b[39m\u001b[39m.\u001b[39m_next_index()  \u001b[39m# may raise StopIteration\u001b[39;00m\n\u001b[0;32m--> 721\u001b[0m     data \u001b[39m=\u001b[39m \u001b[39mself\u001b[39;49m\u001b[39m.\u001b[39;49m_dataset_fetcher\u001b[39m.\u001b[39;49mfetch(index)  \u001b[39m# may raise StopIteration\u001b[39;00m\n\u001b[1;32m    722\u001b[0m     \u001b[39mif\u001b[39;00m \u001b[39mself\u001b[39m\u001b[39m.\u001b[39m_pin_memory:\n\u001b[1;32m    723\u001b[0m         data \u001b[39m=\u001b[39m _utils\u001b[39m.\u001b[39mpin_memory\u001b[39m.\u001b[39mpin_memory(data, \u001b[39mself\u001b[39m\u001b[39m.\u001b[39m_pin_memory_device)\n",
      "File \u001b[0;32m~/opt/anaconda3/envs/pmgnn_kr/lib/python3.9/site-packages/torch/utils/data/_utils/fetch.py:52\u001b[0m, in \u001b[0;36m_MapDatasetFetcher.fetch\u001b[0;34m(self, possibly_batched_index)\u001b[0m\n\u001b[1;32m     50\u001b[0m \u001b[39melse\u001b[39;00m:\n\u001b[1;32m     51\u001b[0m     data \u001b[39m=\u001b[39m \u001b[39mself\u001b[39m\u001b[39m.\u001b[39mdataset[possibly_batched_index]\n\u001b[0;32m---> 52\u001b[0m \u001b[39mreturn\u001b[39;00m \u001b[39mself\u001b[39;49m\u001b[39m.\u001b[39;49mcollate_fn(data)\n",
      "File \u001b[0;32m~/opt/anaconda3/envs/pmgnn_kr/lib/python3.9/site-packages/torch/utils/data/_utils/collate.py:175\u001b[0m, in \u001b[0;36mdefault_collate\u001b[0;34m(batch)\u001b[0m\n\u001b[1;32m    172\u001b[0m transposed \u001b[39m=\u001b[39m \u001b[39mlist\u001b[39m(\u001b[39mzip\u001b[39m(\u001b[39m*\u001b[39mbatch))  \u001b[39m# It may be accessed twice, so we use a list.\u001b[39;00m\n\u001b[1;32m    174\u001b[0m \u001b[39mif\u001b[39;00m \u001b[39misinstance\u001b[39m(elem, \u001b[39mtuple\u001b[39m):\n\u001b[0;32m--> 175\u001b[0m     \u001b[39mreturn\u001b[39;00m [default_collate(samples) \u001b[39mfor\u001b[39;00m samples \u001b[39min\u001b[39;00m transposed]  \u001b[39m# Backwards compatibility.\u001b[39;00m\n\u001b[1;32m    176\u001b[0m \u001b[39melse\u001b[39;00m:\n\u001b[1;32m    177\u001b[0m     \u001b[39mtry\u001b[39;00m:\n",
      "File \u001b[0;32m~/opt/anaconda3/envs/pmgnn_kr/lib/python3.9/site-packages/torch/utils/data/_utils/collate.py:175\u001b[0m, in \u001b[0;36m<listcomp>\u001b[0;34m(.0)\u001b[0m\n\u001b[1;32m    172\u001b[0m transposed \u001b[39m=\u001b[39m \u001b[39mlist\u001b[39m(\u001b[39mzip\u001b[39m(\u001b[39m*\u001b[39mbatch))  \u001b[39m# It may be accessed twice, so we use a list.\u001b[39;00m\n\u001b[1;32m    174\u001b[0m \u001b[39mif\u001b[39;00m \u001b[39misinstance\u001b[39m(elem, \u001b[39mtuple\u001b[39m):\n\u001b[0;32m--> 175\u001b[0m     \u001b[39mreturn\u001b[39;00m [default_collate(samples) \u001b[39mfor\u001b[39;00m samples \u001b[39min\u001b[39;00m transposed]  \u001b[39m# Backwards compatibility.\u001b[39;00m\n\u001b[1;32m    176\u001b[0m \u001b[39melse\u001b[39;00m:\n\u001b[1;32m    177\u001b[0m     \u001b[39mtry\u001b[39;00m:\n",
      "File \u001b[0;32m~/opt/anaconda3/envs/pmgnn_kr/lib/python3.9/site-packages/torch/utils/data/_utils/collate.py:147\u001b[0m, in \u001b[0;36mdefault_collate\u001b[0;34m(batch)\u001b[0m\n\u001b[1;32m    144\u001b[0m \u001b[39mif\u001b[39;00m elem_type\u001b[39m.\u001b[39m\u001b[39m__name__\u001b[39m \u001b[39m==\u001b[39m \u001b[39m'\u001b[39m\u001b[39mndarray\u001b[39m\u001b[39m'\u001b[39m \u001b[39mor\u001b[39;00m elem_type\u001b[39m.\u001b[39m\u001b[39m__name__\u001b[39m \u001b[39m==\u001b[39m \u001b[39m'\u001b[39m\u001b[39mmemmap\u001b[39m\u001b[39m'\u001b[39m:\n\u001b[1;32m    145\u001b[0m     \u001b[39m# array of string classes and object\u001b[39;00m\n\u001b[1;32m    146\u001b[0m     \u001b[39mif\u001b[39;00m np_str_obj_array_pattern\u001b[39m.\u001b[39msearch(elem\u001b[39m.\u001b[39mdtype\u001b[39m.\u001b[39mstr) \u001b[39mis\u001b[39;00m \u001b[39mnot\u001b[39;00m \u001b[39mNone\u001b[39;00m:\n\u001b[0;32m--> 147\u001b[0m         \u001b[39mraise\u001b[39;00m \u001b[39mTypeError\u001b[39;00m(default_collate_err_msg_format\u001b[39m.\u001b[39mformat(elem\u001b[39m.\u001b[39mdtype))\n\u001b[1;32m    149\u001b[0m     \u001b[39mreturn\u001b[39;00m default_collate([torch\u001b[39m.\u001b[39mas_tensor(b) \u001b[39mfor\u001b[39;00m b \u001b[39min\u001b[39;00m batch])\n\u001b[1;32m    150\u001b[0m \u001b[39melif\u001b[39;00m elem\u001b[39m.\u001b[39mshape \u001b[39m==\u001b[39m ():  \u001b[39m# scalars\u001b[39;00m\n",
      "\u001b[0;31mTypeError\u001b[0m: default_collate: batch must contain tensors, numpy arrays, numbers, dicts or lists; found object"
     ]
    }
   ],
   "source": [
    "for batch_idx, data in enumerate(train_loader):\n",
    "    print(\"batch_idx :\", batch_idx)"
   ]
  }
 ],
 "metadata": {
  "kernelspec": {
   "display_name": "Python 3.9.13",
   "language": "python",
   "name": "python3"
  },
  "language_info": {
   "codemirror_mode": {
    "name": "ipython",
    "version": 3
   },
   "file_extension": ".py",
   "mimetype": "text/x-python",
   "name": "python",
   "nbconvert_exporter": "python",
   "pygments_lexer": "ipython3",
   "version": "3.9.13"
  },
  "orig_nbformat": 4,
  "vscode": {
   "interpreter": {
    "hash": "1b7fbf9b371e2891e40c59d9032b3d4cd50b292229b6782501169eeda51975bb"
   }
  }
 },
 "nbformat": 4,
 "nbformat_minor": 2
}
